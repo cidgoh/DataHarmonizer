{
 "cells": [
  {
   "cell_type": "code",
   "execution_count": 1,
   "id": "1bc1eed5",
   "metadata": {
    "ExecuteTime": {
     "end_time": "2021-12-03T23:17:19.581340Z",
     "start_time": "2021-12-03T23:17:18.261050Z"
    }
   },
   "outputs": [],
   "source": [
    "import pandas as pd\n",
    "from linkml_runtime.linkml_model import (\n",
    "    SchemaDefinition,\n",
    "    ClassDefinition,\n",
    "    SlotDefinition,\n",
    "    Annotation,\n",
    ")\n",
    "from linkml_runtime.dumpers import yaml_dumper\n",
    "from linkml_runtime.utils.schemaview import SchemaView\n",
    "from strsimpy import Cosine\n",
    "\n",
    "from dataclasses import dataclass\n",
    "\n",
    "from deepdiff import DeepDiff\n",
    "from pprint import pprint, pformat"
   ]
  },
  {
   "cell_type": "code",
   "execution_count": null,
   "id": "38df8590",
   "metadata": {
    "ExecuteTime": {
     "end_time": "2021-12-01T02:31:01.771431Z",
     "start_time": "2021-12-01T02:31:01.769088Z"
    }
   },
   "outputs": [],
   "source": [
    "# model_file = \"../nmdc-schema/src/schema/nmdc.yaml\"\n",
    "model_file = \"../mixs-source/model/schema/mixs.yaml\"\n",
    "selected_class = \"soil MIMS\""
   ]
  },
  {
   "cell_type": "code",
   "execution_count": null,
   "id": "99aab9e3",
   "metadata": {
    "ExecuteTime": {
     "end_time": "2021-12-01T02:31:01.788165Z",
     "start_time": "2021-12-01T02:31:01.774215Z"
    }
   },
   "outputs": [],
   "source": [
    "model_sv = SchemaView(model_file)"
   ]
  },
  {
   "cell_type": "code",
   "execution_count": null,
   "id": "0300a954",
   "metadata": {
    "ExecuteTime": {
     "end_time": "2021-12-01T02:31:01.791718Z",
     "start_time": "2021-12-01T02:31:01.789513Z"
    }
   },
   "outputs": [],
   "source": [
    "# model_sv.class_descendants(\"soil\")"
   ]
  },
  {
   "cell_type": "code",
   "execution_count": null,
   "id": "f154886a",
   "metadata": {
    "ExecuteTime": {
     "end_time": "2021-12-01T02:31:04.396325Z",
     "start_time": "2021-12-01T02:31:01.793432Z"
    }
   },
   "outputs": [],
   "source": [
    "mvs = model_sv.all_subsets()"
   ]
  },
  {
   "cell_type": "code",
   "execution_count": null,
   "id": "8816e14f",
   "metadata": {
    "ExecuteTime": {
     "end_time": "2021-12-01T02:31:04.400715Z",
     "start_time": "2021-12-01T02:31:04.397799Z"
    }
   },
   "outputs": [],
   "source": [
    "mvp = model_sv.schema.prefixes\n",
    "# print(mvp)"
   ]
  },
  {
   "cell_type": "code",
   "execution_count": null,
   "id": "19f7c4bd",
   "metadata": {
    "ExecuteTime": {
     "end_time": "2021-12-01T02:31:04.405656Z",
     "start_time": "2021-12-01T02:31:04.402671Z"
    }
   },
   "outputs": [],
   "source": [
    "all_slots_dict = model_sv.all_slots()"
   ]
  },
  {
   "cell_type": "code",
   "execution_count": null,
   "id": "02cd166b",
   "metadata": {
    "ExecuteTime": {
     "end_time": "2021-12-01T02:31:04.410186Z",
     "start_time": "2021-12-01T02:31:04.407763Z"
    }
   },
   "outputs": [],
   "source": [
    "all_classes = model_sv.all_classes()\n",
    "all_class_names = list(all_classes.keys())"
   ]
  },
  {
   "cell_type": "code",
   "execution_count": null,
   "id": "043044a5",
   "metadata": {
    "ExecuteTime": {
     "end_time": "2021-12-01T02:31:04.415857Z",
     "start_time": "2021-12-01T02:31:04.413651Z"
    }
   },
   "outputs": [],
   "source": [
    "all_types = model_sv.all_types()\n",
    "all_type_names = list(all_types.keys())"
   ]
  },
  {
   "cell_type": "code",
   "execution_count": null,
   "id": "2c889d64",
   "metadata": {
    "ExecuteTime": {
     "end_time": "2021-12-01T02:31:04.419478Z",
     "start_time": "2021-12-01T02:31:04.417223Z"
    }
   },
   "outputs": [],
   "source": [
    "all_enums = model_sv.all_enums()\n",
    "all_enum_names = list(all_enums.keys())"
   ]
  },
  {
   "cell_type": "code",
   "execution_count": null,
   "id": "e3783319",
   "metadata": {
    "ExecuteTime": {
     "end_time": "2021-12-01T02:31:04.423725Z",
     "start_time": "2021-12-01T02:31:04.420986Z"
    }
   },
   "outputs": [],
   "source": [
    "class_slot_dict = {\n",
    "    \"pending_ranges\": set(),\n",
    "    \"pending_slots\": set(),\n",
    "    \"exhausted_ranges\": set(),\n",
    "    \"exhausted_slots\": set(),\n",
    "    \"exhausted_enums\": set(),\n",
    "    \"exhausted_types\": set(),\n",
    "}"
   ]
  },
  {
   "cell_type": "code",
   "execution_count": null,
   "id": "060e3aac",
   "metadata": {
    "ExecuteTime": {
     "end_time": "2021-12-01T02:31:04.428325Z",
     "start_time": "2021-12-01T02:31:04.425440Z"
    }
   },
   "outputs": [],
   "source": [
    "accum = class_slot_dict.copy()\n",
    "accum[\"pending_ranges\"].add(selected_class)"
   ]
  },
  {
   "cell_type": "code",
   "execution_count": null,
   "id": "a443d9e4",
   "metadata": {
    "ExecuteTime": {
     "end_time": "2021-12-01T02:31:04.440069Z",
     "start_time": "2021-12-01T02:31:04.429905Z"
    }
   },
   "outputs": [],
   "source": [
    "# use a dataclass instead of a dict?\n",
    "# or do better testing of the dict\n",
    "def exhaust_class(dict_to_exhaust):\n",
    "    if (\n",
    "        len(dict_to_exhaust[\"pending_ranges\"]) == 0\n",
    "        and len(dict_to_exhaust[\"pending_slots\"]) == 0\n",
    "    ):\n",
    "        return dict_to_exhaust\n",
    "    else:\n",
    "        class_parents = set()\n",
    "        usage_ranges = set()\n",
    "        for pc in dict_to_exhaust[\"pending_ranges\"]:\n",
    "            dict_to_exhaust[\"exhausted_ranges\"].add(pc)\n",
    "            i_s = model_sv.class_induced_slots(pc)\n",
    "            isnl = [slot.name for slot in i_s]\n",
    "            isns = set(isnl)\n",
    "            dict_to_exhaust[\"pending_slots\"] = dict_to_exhaust[\"pending_slots\"].union(\n",
    "                isns\n",
    "            )\n",
    "            class_parents.update(set(model_sv.class_ancestors(pc)))\n",
    "            cd = model_sv.get_class(pc)\n",
    "            for k, v in cd.slot_usage.items():\n",
    "                if v.range is not None:\n",
    "                    usage_ranges.add(v.range)\n",
    "        dict_to_exhaust[\"pending_ranges\"] = (\n",
    "            dict_to_exhaust[\"pending_ranges\"] - dict_to_exhaust[\"exhausted_ranges\"]\n",
    "        )\n",
    "        for cp in class_parents:\n",
    "            if cp not in dict_to_exhaust[\"exhausted_ranges\"]:\n",
    "                dict_to_exhaust[\"pending_ranges\"].add(cp)\n",
    "        for ur in usage_ranges:\n",
    "            if ur in all_class_names and ur not in dict_to_exhaust[\"exhausted_ranges\"]:\n",
    "                dict_to_exhaust[\"pending_ranges\"].add(ur)\n",
    "            if ur in all_type_names:\n",
    "                # a typeof could sneak in here?\n",
    "                dict_to_exhaust[\"exhausted_types\"].add(ur)\n",
    "        isas = set()\n",
    "        for ps in dict_to_exhaust[\"pending_slots\"]:\n",
    "            if ps not in dict_to_exhaust[\"exhausted_slots\"]:\n",
    "                current_slot_def = all_slots_dict[ps]\n",
    "                isas.update(set(model_sv.slot_ancestors(ps)))\n",
    "\n",
    "                current_slot_range = current_slot_def.range\n",
    "                if current_slot_range is not None:\n",
    "                    if current_slot_range in all_type_names:\n",
    "                        dict_to_exhaust[\"exhausted_types\"].add(current_slot_range)\n",
    "                        td = model_sv.get_type(current_slot_range)\n",
    "                        tdto = td.typeof\n",
    "                        if tdto is not None:\n",
    "                            dict_to_exhaust[\"exhausted_types\"].add(tdto)\n",
    "                    if current_slot_range in all_enum_names:\n",
    "                        dict_to_exhaust[\"exhausted_enums\"].add(current_slot_range)\n",
    "                    if current_slot_range in all_class_names:\n",
    "                        if (\n",
    "                            current_slot_range\n",
    "                            not in dict_to_exhaust[\"exhausted_ranges\"]\n",
    "                        ):\n",
    "                            dict_to_exhaust[\"pending_ranges\"].add(current_slot_range)\n",
    "\n",
    "                # refactor?\n",
    "                current_slot_domain = current_slot_def.domain\n",
    "                if current_slot_domain is not None:\n",
    "                    if current_slot_domain not in dict_to_exhaust[\"exhausted_ranges\"]:\n",
    "                        dict_to_exhaust[\"pending_ranges\"].add(current_slot_domain)\n",
    "\n",
    "                dict_to_exhaust[\"exhausted_slots\"].add(ps)\n",
    "        dict_to_exhaust[\"pending_slots\"] = (\n",
    "            dict_to_exhaust[\"pending_slots\"] - dict_to_exhaust[\"exhausted_slots\"]\n",
    "        )\n",
    "        for parent in isas:\n",
    "            dict_to_exhaust[\"pending_slots\"].add(parent)\n",
    "\n",
    "        return exhaust_class(dict_to_exhaust)"
   ]
  },
  {
   "cell_type": "code",
   "execution_count": null,
   "id": "2ea9d026",
   "metadata": {
    "ExecuteTime": {
     "end_time": "2021-12-01T02:31:04.655684Z",
     "start_time": "2021-12-01T02:31:04.441453Z"
    }
   },
   "outputs": [],
   "source": [
    "exhausted = exhaust_class(accum)"
   ]
  },
  {
   "cell_type": "code",
   "execution_count": null,
   "id": "9e3a8d56",
   "metadata": {
    "ExecuteTime": {
     "end_time": "2021-12-01T02:31:04.661392Z",
     "start_time": "2021-12-01T02:31:04.657258Z"
    }
   },
   "outputs": [],
   "source": [
    "accum_sd = SchemaDefinition(name=\"accumulated\", id=\"http://example.com/accumulated\")"
   ]
  },
  {
   "cell_type": "code",
   "execution_count": null,
   "id": "5fcc8098",
   "metadata": {
    "ExecuteTime": {
     "end_time": "2021-12-01T02:31:04.666044Z",
     "start_time": "2021-12-01T02:31:04.663864Z"
    }
   },
   "outputs": [],
   "source": [
    "for i in exhausted[\"exhausted_ranges\"]:\n",
    "#     print(i)\n",
    "    accum_sd.classes[i] = model_sv.get_class(i)"
   ]
  },
  {
   "cell_type": "code",
   "execution_count": null,
   "id": "0cc6fc67",
   "metadata": {
    "ExecuteTime": {
     "end_time": "2021-12-01T02:31:04.669924Z",
     "start_time": "2021-12-01T02:31:04.667494Z"
    }
   },
   "outputs": [],
   "source": [
    "for i in exhausted[\"exhausted_slots\"]:\n",
    "#     print(i)\n",
    "    accum_sd.slots[i] = model_sv.get_slot(i)"
   ]
  },
  {
   "cell_type": "code",
   "execution_count": null,
   "id": "836fcc87",
   "metadata": {
    "ExecuteTime": {
     "end_time": "2021-12-01T02:31:04.673713Z",
     "start_time": "2021-12-01T02:31:04.671288Z"
    }
   },
   "outputs": [],
   "source": [
    "for i in exhausted[\"exhausted_types\"]:\n",
    "#     print(i)\n",
    "    accum_sd.types[i] = model_sv.get_type(i)"
   ]
  },
  {
   "cell_type": "code",
   "execution_count": null,
   "id": "96e7c27b",
   "metadata": {
    "ExecuteTime": {
     "end_time": "2021-12-01T02:31:04.677663Z",
     "start_time": "2021-12-01T02:31:04.675158Z"
    }
   },
   "outputs": [],
   "source": [
    "for i in exhausted[\"exhausted_enums\"]:\n",
    "#     print(i)\n",
    "    accum_sd.enums[i] = model_sv.get_enum(i)"
   ]
  },
  {
   "cell_type": "code",
   "execution_count": null,
   "id": "23f306a9",
   "metadata": {
    "ExecuteTime": {
     "end_time": "2021-12-01T02:31:04.681895Z",
     "start_time": "2021-12-01T02:31:04.679335Z"
    }
   },
   "outputs": [],
   "source": [
    "# limit these to those subsets claimed by any element?\n",
    "for k,v in mvs.items():\n",
    "#     print(k)\n",
    "    accum_sd.subsets[k] = v"
   ]
  },
  {
   "cell_type": "code",
   "execution_count": null,
   "id": "9b795bb0",
   "metadata": {
    "ExecuteTime": {
     "end_time": "2021-12-01T02:31:04.685726Z",
     "start_time": "2021-12-01T02:31:04.683294Z"
    }
   },
   "outputs": [],
   "source": [
    "# limit these to those prefixes claimed by any element?\n",
    "for k,v in mvp.items():\n",
    "#     print(k)\n",
    "    accum_sd.prefixes[k] = v"
   ]
  },
  {
   "cell_type": "code",
   "execution_count": null,
   "id": "a71a50e1",
   "metadata": {
    "ExecuteTime": {
     "end_time": "2021-12-01T02:31:04.950683Z",
     "start_time": "2021-12-01T02:31:04.687065Z"
    }
   },
   "outputs": [],
   "source": [
    "print(yaml_dumper.dumps(accum_sd))"
   ]
  },
  {
   "cell_type": "code",
   "execution_count": null,
   "id": "4e4fddca",
   "metadata": {
    "ExecuteTime": {
     "end_time": "2021-12-01T02:31:11.408209Z",
     "start_time": "2021-12-01T02:31:11.211687Z"
    }
   },
   "outputs": [],
   "source": [
    "# yaml_dumper.dump(accum_sd, \"accum_sd.yaml\")"
   ]
  },
  {
   "cell_type": "markdown",
   "id": "bb22f0c2",
   "metadata": {},
   "source": [
    "----"
   ]
  },
  {
   "cell_type": "code",
   "execution_count": 14,
   "id": "f35d11d7",
   "metadata": {
    "ExecuteTime": {
     "end_time": "2021-12-03T23:21:01.913748Z",
     "start_time": "2021-12-03T23:21:01.911555Z"
    }
   },
   "outputs": [],
   "source": [
    "linkml1 = \"../../mixs-source/model/schema/mixs.yaml\"\n",
    "linkml2 = \"../../nmdc-schema/src/schema/nmdc.yaml\""
   ]
  },
  {
   "cell_type": "code",
   "execution_count": 15,
   "id": "6bc00f2a",
   "metadata": {
    "ExecuteTime": {
     "end_time": "2021-12-03T23:21:02.706451Z",
     "start_time": "2021-12-03T23:21:02.597958Z"
    }
   },
   "outputs": [],
   "source": [
    "sv1 = SchemaView(linkml1)\n",
    "c1 = sv1.all_classes\n",
    "sv2 = SchemaView(linkml2)"
   ]
  },
  {
   "cell_type": "code",
   "execution_count": 16,
   "id": "4306a2b7",
   "metadata": {
    "ExecuteTime": {
     "end_time": "2021-12-03T23:21:03.197178Z",
     "start_time": "2021-12-03T23:21:03.195331Z"
    }
   },
   "outputs": [],
   "source": [
    "# sv1.merge_schema(sv2.schema)"
   ]
  },
  {
   "cell_type": "code",
   "execution_count": 17,
   "id": "c53c1329",
   "metadata": {
    "ExecuteTime": {
     "end_time": "2021-12-03T23:21:08.733230Z",
     "start_time": "2021-12-03T23:21:04.088401Z"
    }
   },
   "outputs": [],
   "source": [
    "tnc1 = sv1.get_slot('tot_nitro_content').__dict__\n",
    "tnc2 = sv2.get_slot('tot_nitro_content').__dict__\n",
    "tnc_diff = DeepDiff(tnc1, tnc2, view=\"tree\")"
   ]
  },
  {
   "cell_type": "code",
   "execution_count": 18,
   "id": "6045b9b2",
   "metadata": {
    "ExecuteTime": {
     "end_time": "2021-12-03T23:21:09.778155Z",
     "start_time": "2021-12-03T23:21:09.775718Z"
    }
   },
   "outputs": [],
   "source": [
    "tncd_vc = tnc_diff['values_changed']"
   ]
  },
  {
   "cell_type": "code",
   "execution_count": 19,
   "id": "607b8673",
   "metadata": {
    "ExecuteTime": {
     "end_time": "2021-12-03T23:21:11.295133Z",
     "start_time": "2021-12-03T23:21:11.292560Z"
    }
   },
   "outputs": [],
   "source": [
    "tncd_vc_fields = [i.path(output_format='list') for i in tncd_vc]\n",
    "tncd_vc_fields = [item for sublist in tncd_vc_fields for item in sublist]"
   ]
  },
  {
   "cell_type": "code",
   "execution_count": 20,
   "id": "339df5df",
   "metadata": {
    "ExecuteTime": {
     "end_time": "2021-12-03T23:21:12.737284Z",
     "start_time": "2021-12-03T23:21:12.734092Z"
    }
   },
   "outputs": [
    {
     "data": {
      "text/plain": [
       "['from_schema', 'is_a']"
      ]
     },
     "execution_count": 20,
     "metadata": {},
     "output_type": "execute_result"
    }
   ],
   "source": [
    "tncd_vc_fields"
   ]
  },
  {
   "cell_type": "markdown",
   "id": "b2ffbe7a",
   "metadata": {},
   "source": [
    "----"
   ]
  },
  {
   "cell_type": "code",
   "execution_count": null,
   "id": "5a92ade6",
   "metadata": {},
   "outputs": [],
   "source": [
    "d1 = sv1."
   ]
  }
 ],
 "metadata": {
  "kernelspec": {
   "display_name": "Python 3 (ipykernel)",
   "language": "python",
   "name": "python3"
  },
  "language_info": {
   "codemirror_mode": {
    "name": "ipython",
    "version": 3
   },
   "file_extension": ".py",
   "mimetype": "text/x-python",
   "name": "python",
   "nbconvert_exporter": "python",
   "pygments_lexer": "ipython3",
   "version": "3.9.9"
  },
  "varInspector": {
   "cols": {
    "lenName": 16,
    "lenType": 16,
    "lenVar": 40
   },
   "kernels_config": {
    "python": {
     "delete_cmd_postfix": "",
     "delete_cmd_prefix": "del ",
     "library": "var_list.py",
     "varRefreshCmd": "print(var_dic_list())"
    },
    "r": {
     "delete_cmd_postfix": ") ",
     "delete_cmd_prefix": "rm(",
     "library": "var_list.r",
     "varRefreshCmd": "cat(var_dic_list()) "
    }
   },
   "types_to_exclude": [
    "module",
    "function",
    "builtin_function_or_method",
    "instance",
    "_Feature"
   ],
   "window_display": false
  }
 },
 "nbformat": 4,
 "nbformat_minor": 5
}
